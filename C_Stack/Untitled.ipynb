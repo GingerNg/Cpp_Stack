{
 "cells": [
  {
   "cell_type": "code",
   "execution_count": 1,
   "metadata": {},
   "outputs": [
    {
     "name": "stderr",
     "output_type": "stream",
     "text": [
      "/tmp/tmpw547n_wa.c:1:19: warning: extra tokens at end of #include directive\n",
      " #include <stdio.h>　// printf() 用于格式化输出到屏幕。printf() 函数在 \"stdio.h\" 头文件中声明。\n",
      "                   ^\n"
     ]
    },
    {
     "name": "stdout",
     "output_type": "stream",
     "text": [
      "hello world1"
     ]
    }
   ],
   "source": [
    "#include <stdio.h>　// printf() 用于格式化输出到屏幕。printf() 函数在 \"stdio.h\" 头文件中声明。\n",
    "int main() {\n",
    "    printf(\"hello world1\");\n",
    "}"
   ]
  },
  {
   "cell_type": "code",
   "execution_count": null,
   "metadata": {},
   "outputs": [],
   "source": []
  }
 ],
 "metadata": {
  "kernelspec": {
   "display_name": "C",
   "language": "c",
   "name": "c"
  },
  "language_info": {
   "file_extension": ".c",
   "mimetype": "text/plain",
   "name": "c"
  }
 },
 "nbformat": 4,
 "nbformat_minor": 2
}
